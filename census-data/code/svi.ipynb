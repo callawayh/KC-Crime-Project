{
 "cells": [
  {
   "cell_type": "markdown",
   "metadata": {},
   "source": [
    "### Load Data and Packages"
   ]
  },
  {
   "cell_type": "code",
   "execution_count": 1,
   "metadata": {},
   "outputs": [],
   "source": [
    "import pandas as pd\n",
    "import numpy as np\n",
    "import warnings \n",
    "warnings.filterwarnings('ignore')\n",
    "\n",
    "# https://svi.cdc.gov/data-and-tools-download.html\n",
    "svi = pd.read_csv(path)\n",
    "\n",
    "# https://www.huduser.gov/portal/datasets/usps_crosswalk.html\n",
    "# select tract-zip\n",
    "zipcodes = pd.read_excel(path,\n",
    "                         dtype = {'ZIP':object})\n",
    "\n",
    "dfs = [svi,zipcodes]\n",
    "\n",
    "for df in dfs:\n",
    "    df.columns = map(str.lower, df.columns)\n",
    "    df.columns = df.columns.str.replace(' ', '_')\n",
    "    df.columns = df.columns.str.replace('/', '_')\n",
    "    df.columns = df.columns.str.replace('-', '_')\n"
   ]
  },
  {
   "cell_type": "markdown",
   "metadata": {},
   "source": [
    "### Create Zipcode Level SVI Percentage Percentile Rank Scores\n",
    "#### Following doccumentation here: https://svi.cdc.gov/Documents/Data/2016_SVI_Data/SVI2016Documentation.pdf"
   ]
  },
  {
   "cell_type": "markdown",
   "metadata": {},
   "source": [
    "##### Get rid of tract level raw data on these criteria\n",
    "\u0001 Tracts with zero estimates for total population (N = 417 for the U.S.) were removed during the ranking\n",
    "process. These tracts were added back to the SVI databases after ranking. The TOTPOP field value is 0,\n",
    "but the percentile ranking fields (RPL_THEME1, RPL_THEME2, RPL_THEME3, RPL_THEME4, and\n",
    "RPL_THEMES) were set to -999.\n",
    "\n",
    "\n",
    "\u0001 For tracts with > 0 TOTPOP, a value of -999 in any field either means the value was unavailable from the\n",
    "original census data or we could not calculate a derived value because of unavailable census data.\n",
    "\n",
    "\n",
    "\u0001 Any cells with a -999 were not used for further calculations. For example, total flags do not include fields\n",
    "with a -999 value."
   ]
  },
  {
   "cell_type": "code",
   "execution_count": 2,
   "metadata": {},
   "outputs": [
    {
     "name": "stdout",
     "output_type": "stream",
     "text": [
      "417 census tracts will be excluded because of 0 e_totpop estimates\n"
     ]
    }
   ],
   "source": [
    "# measure effect fo excluding 0 pop census tracts\n",
    "svi_len = len(svi)\n",
    "svi_non0 =len(svi[svi.e_totpop != 0])\n",
    "print('{} census tracts will be excluded because of 0 e_totpop estimates'.format(svi_len-svi_non0))\n",
    "\n",
    "# exclude\n",
    "svi = svi[svi.e_totpop != 0]\n"
   ]
  },
  {
   "cell_type": "code",
   "execution_count": 3,
   "metadata": {},
   "outputs": [
    {
     "name": "stdout",
     "output_type": "stream",
     "text": [
      "72836\n",
      "165629\n",
      "163782\n"
     ]
    }
   ],
   "source": [
    "# create data via mearge\n",
    "data = pd.merge(svi,zipcodes, left_on= 'fips', right_on='tract', how= 'inner')\n",
    "\n",
    "# check lengths \n",
    "dfs.append(data)\n",
    "\n",
    "for x in dfs:\n",
    "    print(len(x))"
   ]
  },
  {
   "cell_type": "code",
   "execution_count": 4,
   "metadata": {},
   "outputs": [],
   "source": [
    "# got rid of e_pci\n",
    "\n",
    "# keep all e columns, keep 'ep_unemp', 'ep_nohsdp','ep_disabl','ep_limeng','ep_crowd' to solve for \n",
    "# denominators not given in the svi raw data\n",
    "\n",
    "cols = ['zip','fips','e_totpop','e_hu','e_hh','e_pov','e_unemp','e_nohsdp','e_age65','e_age17',\n",
    "           'e_disabl','e_sngpnt','e_minrty','e_limeng','e_munit','e_mobile','e_crowd','e_noveh',\n",
    "           'e_groupq',\n",
    "           'ep_unemp', 'ep_nohsdp','ep_disabl','ep_limeng','ep_crowd']\n",
    "\n",
    "df = data[cols]\n",
    "\n",
    "# grab out blank rows for disclosure later, these will not be able to go into scores\n",
    "df.replace(to_replace = -999, value= np.nan, inplace = True)\n",
    "\n",
    "blanks_rows = df[df[cols[2:]].isnull().any(axis = 1)==True]\n",
    "\n",
    "# get everything less the blank scores\n",
    "df = df[df[cols[2:]].isnull().any(axis = 1)==False]"
   ]
  },
  {
   "cell_type": "code",
   "execution_count": 5,
   "metadata": {},
   "outputs": [],
   "source": [
    "# solve for employable population for a tract\n",
    "df['e_emp'] = round(df.e_unemp/(df.ep_unemp/100))\n",
    "\n",
    "# solve for persons 25+ for a tract\n",
    "df['e_pop25'] = round(df.e_nohsdp/(df.ep_nohsdp/100))\n",
    "\n",
    "# solve for civilian noninstitutionalized population for a tract\n",
    "df['e_noninspop'] = round(df.e_disabl/(df.ep_disabl/100))\n",
    "\n",
    "# solve for persons 5+ for a tract \n",
    "df['e_pop5'] = round(df.e_limeng/(df.ep_limeng/100))\n",
    "\n",
    "# solve for occupied housing units \n",
    "df['e_ochu'] = round(df.e_crowd/(df.ep_crowd/100))\n",
    "\n",
    "# replace any infinate values \n",
    "df.replace([np.inf, -np.inf], 0, inplace= True)"
   ]
  },
  {
   "cell_type": "code",
   "execution_count": 6,
   "metadata": {},
   "outputs": [],
   "source": [
    "# drop tract level ep columns now that calculations are done\n",
    "# drop fips column\n",
    "df.drop(columns=['fips','ep_unemp','ep_nohsdp','ep_disabl','ep_limeng','ep_crowd'], \n",
    "        inplace = True)\n",
    "\n",
    "agg = df.groupby('zip').sum() # at this point the data becomes zipcode level"
   ]
  },
  {
   "cell_type": "code",
   "execution_count": 7,
   "metadata": {},
   "outputs": [],
   "source": [
    "# make zipcode level ep columns \n",
    "\n",
    "def epFunc(numerator,denominator):\n",
    "    \"\"\" \n",
    "    this function deals with 0/0 because python was returning 0/0 as blank prior to this\n",
    "    \"\"\"\n",
    "    x = np.where(((numerator == 0) & (denominator == 0)),0,(numerator/denominator)*100)\n",
    "    return x \n",
    "\n",
    "\n",
    "agg['ep_pov'] = epFunc(agg.e_pov, agg.e_totpop)\n",
    "agg['ep_unemp'] = epFunc(agg.e_unemp, agg.e_emp)\n",
    "agg['ep_nohsdp'] = epFunc(agg.e_nohsdp, agg.e_pop25)\n",
    "agg['ep_age65'] = epFunc(agg.e_age65, agg.e_totpop)\n",
    "agg['ep_age17'] = epFunc(agg.e_age17, agg.e_totpop)\n",
    "agg['ep_disabl'] = epFunc(agg.e_disabl, agg.e_noninspop)\n",
    "agg['ep_sngpnt'] = epFunc(agg.e_sngpnt, agg.e_hh)\n",
    "agg['ep_minrty'] = epFunc(agg.e_minrty, agg.e_totpop)\n",
    "agg['ep_limeng'] = epFunc(agg.e_limeng, agg.e_pop5)\n",
    "agg['ep_munit'] = epFunc(agg.e_munit, agg.e_hu)\n",
    "agg['ep_mobile'] = epFunc(agg.e_mobile, agg.e_hu)\n",
    "agg['ep_crowd'] = epFunc(agg.e_crowd, agg.e_ochu)\n",
    "agg['ep_noveh'] = epFunc(agg.e_noveh, agg.e_hh)\n",
    "agg['ep_groupq'] = epFunc(agg.e_groupq, agg.e_totpop)"
   ]
  },
  {
   "cell_type": "code",
   "execution_count": 8,
   "metadata": {},
   "outputs": [],
   "source": [
    "# reset index to not be zipcodes\n",
    "\n",
    "agg.reset_index(inplace = True)\n",
    "\n",
    "# create rank function \n",
    "\n",
    "def pctRnk(column):\n",
    "    x = column.rank(pct = True)\n",
    "    return x\n",
    "\n",
    "# create percentile ranks for sub categories \n",
    "\n",
    "agg['epl_pov'] = pctRnk(agg.ep_pov)\n",
    "agg['epl_unemp'] = pctRnk(agg.ep_unemp)\n",
    "agg['epl_nohsdp'] = pctRnk(agg.ep_nohsdp)\n",
    "agg['epl_age65'] = pctRnk(agg.ep_age65)\n",
    "agg['epl_age17'] = pctRnk(agg.ep_age17)\n",
    "agg['epl_disabl'] = pctRnk(agg.ep_disabl)\n",
    "agg['epl_sngpnt'] = pctRnk(agg.ep_sngpnt)\n",
    "agg['epl_minrty'] = pctRnk(agg.ep_minrty)\n",
    "agg['epl_limeng'] = pctRnk(agg.ep_limeng)\n",
    "agg['epl_munit'] = pctRnk(agg.ep_munit)\n",
    "agg['epl_mobile'] = pctRnk(agg.ep_mobile)\n",
    "agg['epl_crowd'] = pctRnk(agg.ep_crowd)\n",
    "agg['epl_noveh'] = pctRnk(agg.ep_noveh)\n",
    "agg['epl_groupq'] = pctRnk(agg.ep_groupq)\n",
    "\n",
    "# make theme spl columns \n",
    "agg['spl_theme1'] = agg[['epl_pov','epl_unemp','epl_nohsdp']].sum(axis = 1)\n",
    "agg['spl_theme2'] = agg[['epl_age65','epl_age17','epl_disabl','epl_sngpnt']].sum(axis = 1)\n",
    "agg['spl_theme3'] = agg[['epl_minrty','epl_limeng']].sum(axis = 1)\n",
    "agg['spl_theme4'] = agg[['epl_munit','epl_mobile','epl_crowd','epl_noveh','epl_groupq']].sum(axis = 1)\n",
    "\n",
    "# make theme rpl percentile ranks \n",
    "agg['rpl_theme1'] = pctRnk(agg.spl_theme1)\n",
    "agg['rpl_theme2'] = pctRnk(agg.spl_theme2)\n",
    "agg['rpl_theme3'] = pctRnk(agg.spl_theme3)\n",
    "agg['rpl_theme4'] = pctRnk(agg.spl_theme4)\n",
    "\n",
    "# make spl themes column \n",
    "agg['spl_themes'] = agg[['spl_theme1','spl_theme2','spl_theme3','spl_theme4']].sum(axis = 1)\n",
    "\n",
    "# make rpl themes column\n",
    "agg['rpl_themes'] = pctRnk(agg.spl_themes)"
   ]
  },
  {
   "cell_type": "code",
   "execution_count": 9,
   "metadata": {},
   "outputs": [],
   "source": [
    "agg.to_csv(path,\n",
    "                   index = False)\n"
   ]
  },
  {
   "cell_type": "markdown",
   "metadata": {},
   "source": [
    "### Disclose Excluded Census Tracts and ZIpcode Missingness"
   ]
  },
  {
   "cell_type": "code",
   "execution_count": 10,
   "metadata": {},
   "outputs": [
    {
     "name": "stdout",
     "output_type": "stream",
     "text": [
      "       e_totpop  excluded_tracts  not_in_data\n",
      "place                                        \n",
      "29209     11317                1            0\n",
      "29207     11317                1            0\n",
      "77705     10932                3            0\n",
      "93212      9965                1            0\n",
      "79601      6793                1            0\n",
      "92136      6640                1            0\n",
      "93215      6622                2            0\n",
      "95687      6528                1            0\n",
      "21740      6417                1            0\n",
      "21746      6417                1            1\n",
      "There are 164 zipcodes missing some census tracts\n",
      "There are 8 zipcodes that are entirely missing from the final data because all tracts were null\n"
     ]
    }
   ],
   "source": [
    "blanks_rows['place'] = blanks_rows.zip\n",
    "x = pd.DataFrame(blanks_rows.groupby(['place']).e_totpop.sum()).sort_values(by = 'e_totpop',\n",
    "                                                                        ascending = False)\n",
    "\n",
    "# count tracts taht were excluded\n",
    "x['excluded_tracts'] = x.apply(lambda x: blanks_rows.groupby(['place']).e_totpop.count())\n",
    "\n",
    "# flag zipcodes that are not in data at all\n",
    "svi_zipcodes = agg.zip.unique()\n",
    "x['not_in_data'] = np.where(x.index.isin(svi_zipcodes) == False, 1,0)\n",
    "\n",
    "\n",
    "# zipcodes with excluded tracts due to svi blank data feilds, flagged for if that zipcode is in \n",
    "# the data at all \n",
    "\n",
    "print(x.head(10))\n",
    "\n",
    "print('There are {} zipcodes missing some census tracts'.format(x.index.nunique()))\n",
    "print('There are {} zipcodes that are entirely missing from the final data because all tracts were null'\n",
    "     .format(x.not_in_data.sum()))\n"
   ]
  }
 ],
 "metadata": {
  "kernelspec": {
   "display_name": "Python 3",
   "language": "python",
   "name": "python3"
  },
  "language_info": {
   "codemirror_mode": {
    "name": "ipython",
    "version": 3
   },
   "file_extension": ".py",
   "mimetype": "text/x-python",
   "name": "python",
   "nbconvert_exporter": "python",
   "pygments_lexer": "ipython3",
   "version": "3.7.3"
  }
 },
 "nbformat": 4,
 "nbformat_minor": 2
}
