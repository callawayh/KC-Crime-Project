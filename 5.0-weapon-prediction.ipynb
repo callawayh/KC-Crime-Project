{
 "cells": [
  {
   "cell_type": "markdown",
   "metadata": {},
   "source": [
    "# Goal: to build a model that predicts if a weapon was used or not based on the attributes of that crime\n",
    "\n",
    "This will use a binary outcome of true or false. I will try using bayesian model, logistic regression, random forrest."
   ]
  },
  {
   "cell_type": "code",
   "execution_count": 1,
   "metadata": {},
   "outputs": [],
   "source": [
    "import pandas as pd\n",
    "import pyspark\n",
    "import numpy\n",
    "from pyspark.sql import functions as F"
   ]
  },
  {
   "cell_type": "code",
   "execution_count": 2,
   "metadata": {},
   "outputs": [],
   "source": [
    "df = pd.read_csv('clean_crime_data.csv')"
   ]
  },
  {
   "cell_type": "markdown",
   "metadata": {},
   "source": [
    "I am not sure how many crime involved the use of a weapon. Lets look:"
   ]
  },
  {
   "cell_type": "code",
   "execution_count": 3,
   "metadata": {},
   "outputs": [
    {
     "data": {
      "text/plain": [
       "401"
      ]
     },
     "execution_count": 3,
     "metadata": {},
     "output_type": "execute_result"
    }
   ],
   "source": [
    "len(df[df.firearm_used_flag >=1]) # this feels like a cumbersome approach. Lets do something cool"
   ]
  },
  {
   "cell_type": "code",
   "execution_count": 4,
   "metadata": {},
   "outputs": [
    {
     "name": "stdout",
     "output_type": "stream",
     "text": [
      "crimes where weapon was used\n",
      "+-----------+--------------------+\n",
      "|crime_count|         description|\n",
      "+-----------+--------------------+\n",
      "|         93|  Aggravated Assault|\n",
      "|         55|Aggravated Assaul...|\n",
      "|          8|Non Aggravated As...|\n",
      "|          6|       Armed Robbery|\n",
      "|          5|Non Aggravated As...|\n",
      "|          2|  Strong Arm Robbery|\n",
      "|          1|                Rape|\n",
      "|          1|            Homocide|\n",
      "|          1|Kidnapping/Abduction|\n",
      "+-----------+--------------------+\n",
      "\n",
      "all crimes\n",
      "+-----------+\n",
      "|crime_count|\n",
      "+-----------+\n",
      "|      30400|\n",
      "+-----------+\n",
      "\n"
     ]
    }
   ],
   "source": [
    "spark = pyspark.sql.SparkSession.builder.appName('pandasToSparkDF').getOrCreate()\n",
    "\n",
    "# create spark dataframes\n",
    "crime_df = spark.createDataFrame(df)\n",
    "\n",
    "crime_df.createOrReplaceTempView('crime')\n",
    "\n",
    "print('crimes where weapon was used')\n",
    "\n",
    "gun_crimes = spark.sql(\"\"\"\n",
    "select \n",
    "    count(distinct crime_id) as crime_count,\n",
    "    description\n",
    "from crime\n",
    "where firearm_used_flag >= 1\n",
    "and description not LIKE '%Weapons%'\n",
    "group by 2 order by 1 desc\n",
    "\"\"\")\n",
    "\n",
    "gun_crimes.show()\n",
    "\n",
    "print('all crimes')\n",
    "\n",
    "all_crimes = spark.sql(\"\"\"\n",
    "select\n",
    "count(distinct crime_id) as crime_count\n",
    "from crime\n",
    "\"\"\")\n",
    "\n",
    "all_crimes.show()\n",
    "\n",
    "#print('Weapons were used in {}% of the crimes in this data set')"
   ]
  },
  {
   "cell_type": "code",
   "execution_count": 5,
   "metadata": {},
   "outputs": [
    {
     "name": "stdout",
     "output_type": "stream",
     "text": [
      "Weapons were used in 0.6% of the crimes in this data set\n"
     ]
    }
   ],
   "source": [
    "print('Weapons were used in {}% of the crimes in this data set'.format(round((gun_crimes.groupBy().sum().collect()[0][0]/\n",
    "                                                                            all_crimes.groupBy().sum().collect()[0][0]),3)*100))"
   ]
  },
  {
   "cell_type": "markdown",
   "metadata": {},
   "source": [
    "Ok. This might seem pretty bad but actually there are a ton of types of crimes that we can exclude to narrow our focus and give this percentage a bit more of a fighting chance! "
   ]
  }
 ],
 "metadata": {
  "kernelspec": {
   "display_name": "Python 3",
   "language": "python",
   "name": "python3"
  },
  "language_info": {
   "codemirror_mode": {
    "name": "ipython",
    "version": 3
   },
   "file_extension": ".py",
   "mimetype": "text/x-python",
   "name": "python",
   "nbconvert_exporter": "python",
   "pygments_lexer": "ipython3",
   "version": "3.7.3"
  }
 },
 "nbformat": 4,
 "nbformat_minor": 2
}
