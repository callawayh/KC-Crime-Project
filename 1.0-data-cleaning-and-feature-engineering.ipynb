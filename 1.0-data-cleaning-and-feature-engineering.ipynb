{
 "cells": [
  {
   "cell_type": "markdown",
   "metadata": {},
   "source": [
    "## Goal: to manipulate raw crime data to take a look at violent crime between 2016-2018\n",
    "##### Assumptions: There is more than 1 person involved in a crime, sometimes more than 1 suspect. We will only be looking at those who have been arrested\n",
    "##### Intended Result: A dataframe with one line per offence report, as well as other intermediate dataframes"
   ]
  },
  {
   "cell_type": "code",
   "execution_count": 1,
   "metadata": {},
   "outputs": [],
   "source": [
    "import pandas as pd\n",
    "import numpy as np\n",
    "pd.options.display.max_columns=200\n",
    "pd.options.display.max_rows=1000 \n",
    "\n",
    "%matplotlib inline "
   ]
  },
  {
   "cell_type": "code",
   "execution_count": 2,
   "metadata": {},
   "outputs": [],
   "source": [
    "# try using glob later \n",
    "# https://stackoverflow.com/questions/56990908/read-and-save-multiple-csv-files-from-a-for-loop\n",
    "data_paths = [['data_16','KCPD_Crime_Data_2016.csv'],\n",
    "              ['data_17','KCPD_Crime_Data_2017.csv'],\n",
    "              ['data_18','KCPD_Crime_Data_2018.csv']]\n",
    "    \n",
    "df_dct = {name:pd.read_csv(str('raw-crime-data/')+filepath,\n",
    "                      dtype = {\"Zip Code\":object, \n",
    "                               'Report_No':object, \n",
    "                              'Report_No':object,\n",
    "                              'Offense':object}) for name, filepath in data_paths}\n",
    "df = pd.concat([pd.concat(df_dct, sort = False)]).reset_index()\n",
    "df.columns = df.columns.str.replace(' ', '_')\n",
    "df.columns = map(str.lower, df.columns)\n",
    "df.columns = df.columns.str.replace('/', '_')\n",
    "df.columns = df.columns.str.replace('-', '_')\n",
    "df,df = df.drop(columns = ['level_1']), df.rename(columns = {'level_0' : 'source_df'})"
   ]
  },
  {
   "cell_type": "code",
   "execution_count": 3,
   "metadata": {},
   "outputs": [
    {
     "name": "stdout",
     "output_type": "stream",
     "text": [
      "data_16: 127877\n",
      "data_17: 132139\n",
      "data_18: 128938\n",
      "length of all df:  388954\n"
     ]
    }
   ],
   "source": [
    "# check lengths\n",
    "for key in df_dct:\n",
    "    print(str(key)+\":\",len(df_dct[key]))\n",
    "    \n",
    "print('length of all df: ', len(df))"
   ]
  },
  {
   "cell_type": "code",
   "execution_count": 4,
   "metadata": {},
   "outputs": [
    {
     "name": "stdout",
     "output_type": "stream",
     "text": [
      "droping 3 rows where race = *\n",
      "388951\n",
      "dropping 88 rows because their age greater than 100 and that seems unlikely\n"
     ]
    }
   ],
   "source": [
    "# droping certian data\n",
    "print('droping {} rows where race = *'.format(len(df[df.race == '*'])))\n",
    "df = df[df.race != '*']\n",
    "print(len(df))\n",
    "print('dropping {} rows because their age greater than 100 and that seems unlikely'.format(len(df[df.age >= 100])))\n",
    "df = df[df.age <= 100]"
   ]
  },
  {
   "cell_type": "markdown",
   "metadata": {},
   "source": [
    "###### I need to clean some of these descriptions up, they are messy"
   ]
  },
  {
   "cell_type": "code",
   "execution_count": 5,
   "metadata": {},
   "outputs": [],
   "source": [
    "descriptions_ids = pd.DataFrame(df.description.unique(), columns=['description'])\n",
    "descriptions_ids.sort_values('description')\n",
    "\n",
    "def replaceDescriptions(listy,arg):\n",
    "    return df.description.replace([listy],arg, inplace = True)\n",
    "\n",
    "things = [\n",
    "        [['AGG ASSAULT','agg assault','Aggravated Assault (','Agg Assault','Agg Assault - Drive-'],'Aggravated Assault'],\n",
    "         [['Agg Assault - Domest','Agg Assault Dome','agg dv assault'],'Aggravated Assault - Domestic'],\n",
    "         [['Attempt Suicide by C','Attempt Suicide by D','Attempt Suicide by G',\n",
    "                                     'Attempt Suicide by H','Attempt Suicide by J','Attempt Suicide by O',\n",
    "                                     'Attempt Suicide by P','Attempt Suicide by S'], 'Attempt Suicide'],\n",
    "         [['Auto Theft Outside S','auto theft'],'Auto Theft'],\n",
    "         ['Bomb Threat/Intimida', 'Bomb Threat'],\n",
    "          ['Bombing (other than','Bombing'],\n",
    "          ['Burg Res Occ','Burglary - Residence'],\n",
    "          ['Burglary - Non Resid', 'Business Robbery'],\n",
    "          ['Casualty (includes a','Casualty'],\n",
    "          ['Driving Under Influe','DUI'],\n",
    "          ['False Information to','False Information'],\n",
    "          ['HOMICIDE/Non Neglige','Homocide'],\n",
    "          ['Hit and Run of a Per','Hit and Run - Person'],\n",
    "          ['Human Trafficking/Co', 'Human Trafficking'],\n",
    "          [['NON AGG ASSAULT DV','Non Aggravated Assau','non agg assault','non aggravated assau'],'Non Aggravated Assault'],\n",
    "          ['Promoting Prostituti','Promoting Prostitution'],\n",
    "          ['Prostitution/Solicit','Prostitution/Soliciting'],\n",
    "          [['Sex Off Follow/Entic','Sex Off Fondle - mol','Sex Off Incest','Sex Off Indecent Con',\n",
    "           'Sex Off Misconduct','Sex Offense -others'],'Sexual Offense'],\n",
    "          ['Sexual Assault with','Sexual Assault'],\n",
    "          ['Stealing Auto Parts/','Stealing Auto Parts'],\n",
    "          [['Stealing from uildi','Stealing Acc','STEAL TFA'],'Stealing All Other'],\n",
    "          ['Stealing Coin Operat','Stealing Coin'],\n",
    "          ['Stealing Purse Snatc','Stealing Purse'],\n",
    "          [['Suicide by Other Mea','Suicide - Domestic V'],'Suicide by Other Means'],\n",
    "          ['TRASH DUMPING','Dumping (littering)'],\n",
    "          ['Non Agg Assault Dome','Non Aggravated Assault - Domestic'],\n",
    "          ['Sex Off Indecent Exp','Indecent Exposure'],\n",
    "          [['trespassing','TRESPASS'],'Trespassing'],\n",
    "          ['URINATE IN PUBLIC', 'Public Urination'],\n",
    "          ['Violation Ex Parte O', 'Violation Ex Parte Order'],\n",
    "          ['black mail', 'Black Mail'],\n",
    "          ['broken window','Broken Window'],\n",
    "          ['disorderly conduct','Disorderly Conduct'],\n",
    "          ['forgery','Forgery'],\n",
    "          ['kidnapping','Kidnapping/Abduction'],\n",
    "          ['property damage','Property Damage'],\n",
    "          [['robbery','stealing','stealing from buildi','Stealing from Buildi'], 'Burglary'],\n",
    "          ['misc violation','Misc Violation'],\n",
    "          ['misc off','Misc Offense'],\n",
    "          ['strong armed robbery','Strong Arm Robbery'],\n",
    "          ['Stolen Property OFFE','Stolen Property'],\n",
    "          ['Accidental Drug Over','Accidental Drug Overdose']\n",
    "         ]\n",
    "\n",
    "bad_cols = ['`','s','1','4','5']\n",
    "\n",
    "for x,y in things:\n",
    "    replaceDescriptions(x,y)\n",
    "\n",
    "df = df[df.description.isin(bad_cols) == False]\n"
   ]
  },
  {
   "cell_type": "markdown",
   "metadata": {},
   "source": [
    "I need to find some sort of way to make a unique ID for each charge within a police report. First I need to fix up the names some"
   ]
  },
  {
   "cell_type": "code",
   "execution_count": 6,
   "metadata": {},
   "outputs": [
    {
     "name": "stdout",
     "output_type": "stream",
     "text": [
      "unique descriptions 101 unique ids 101\n"
     ]
    }
   ],
   "source": [
    "descriptions_ids = pd.DataFrame(df.description.unique(), columns=['description'])\n",
    "\n",
    "while True:\n",
    "    descriptions_ids['charge_id'] = [np.random.randint(1,999) for x in descriptions_ids.description]\n",
    "    if descriptions_ids.charge_id.nunique() == len(descriptions_ids.description):\n",
    "        break \n",
    "\n",
    "print('unique descriptions',descriptions_ids.description.nunique(),'unique ids',descriptions_ids.charge_id.nunique())\n",
    "\n",
    "# join to df \n",
    "df = pd.merge(df,descriptions_ids, on = 'description')\n",
    "\n",
    "# create the unique identifier\n",
    "df['crime_id'] = df.report_no.map(str) +\"_\"+ df.charge_id.map(str)"
   ]
  },
  {
   "cell_type": "code",
   "execution_count": 7,
   "metadata": {},
   "outputs": [],
   "source": [
    "df.to_csv('crime_data_16_18_raw.csv')"
   ]
  },
  {
   "cell_type": "markdown",
   "metadata": {},
   "source": [
    "### Create an aggregated datatable\n",
    "\n",
    "###### Look at the distribution of ages to inform how age buckets are created later on. "
   ]
  },
  {
   "cell_type": "code",
   "execution_count": 8,
   "metadata": {},
   "outputs": [
    {
     "data": {
      "text/plain": [
       "<matplotlib.axes._subplots.AxesSubplot at 0x22649981710>"
      ]
     },
     "execution_count": 8,
     "metadata": {},
     "output_type": "execute_result"
    },
    {
     "data": {
      "image/png": "[encoded data removed]",
      "text/plain": [
       "<Figure size 1440x432 with 1 Axes>"
      ]
     },
     "metadata": {
      "needs_background": "light"
     },
     "output_type": "display_data"
    }
   ],
   "source": [
    "violent_crimes = ['Homocide','Non Aggravated Assault','Aggravated Assault','Non Aggravated Assault - Domestic',\n",
    "                 ' Aggravated Assault - Domestic','Armed Robbery','Strong Arm Robbery']\n",
    "\n",
    "# thinking behind age buckets \n",
    "df[(df.age<= 100) & \n",
    "   (df.description.isin(violent_crimes)== True) & \n",
    "   (df.involvement.isin(['ARR']) == True)].age.hist(bins=100,figsize=[20,6], \n",
    "                                                          density = True)"
   ]
  },
  {
   "cell_type": "markdown",
   "metadata": {},
   "source": [
    "It appears that the distribution of arrests relating to violent crime is very right skewed"
   ]
  },
  {
   "cell_type": "code",
   "execution_count": 9,
   "metadata": {},
   "outputs": [],
   "source": [
    "df_agg = df\n",
    "\n",
    "def involmentFlag(role):\n",
    "    x = np.where(df_agg.involvement == role,1,0)\n",
    "    return x \n",
    "\n",
    "def raceFlag(race):\n",
    "    x = np.where(df.race == race,1,0)\n",
    "    return x\n",
    "\n",
    "def ageFlag(min_age,max_age):\n",
    "    x = np.where((df.age >= min_age) & (df.age <= max_age), 1,0)\n",
    "    return x \n",
    "    \n",
    "# involment\n",
    "df_agg['arr_flag'] = involmentFlag('ARR')\n",
    "df_agg['vic_flag'] = involmentFlag('VIC')\n",
    "df_agg['sus_flag'] = involmentFlag('SUS')\n",
    "# gender \n",
    "df_agg['male_flag'] = np.where(df.sex == \"M\",1,0)\n",
    "df_agg['female_flag'] = np.where(df.sex == \"F\",1,0)\n",
    "# race \n",
    "race_cols = [['black_race_flag', 'B'], ['nan_race_flag','nan'],['unknown_race_flag', 'U'],['white_race_flag','W'],\n",
    "            ['asian_race_flag','A'],['indian_race_flag', 'I'], ['pacific_race_flag', 'P']]\n",
    "\n",
    "for name,race in race_cols:\n",
    "    df_agg[name] = raceFlag(race)\n",
    "    \n",
    "# gun\n",
    "df_agg.firearm_used_flag = np.where(df_agg.firearm_used_flag == 'Y',1,0)\n",
    "\n",
    "# dv\n",
    "df_agg.dvflag = np.where(df_agg.dvflag == 'Y',1,0)\n",
    "\n",
    "# age\n",
    "age_cols = [['age_minor', 16,17], ['age_18_24',18,24],['age_25_29',25,29], ['age_30_34',30,34],['age_35_39',35,39],\n",
    "           ['age_40_44',40,44],['age_45_49',45,49],['age_50_plus',50,100]]\n",
    "\n",
    "for name,age1,age2 in age_cols:\n",
    "    df_agg[name] = ageFlag(age1,age2)\n",
    "    \n"
   ]
  },
  {
   "cell_type": "markdown",
   "metadata": {},
   "source": [
    "###### get victims for later"
   ]
  },
  {
   "cell_type": "code",
   "execution_count": 10,
   "metadata": {},
   "outputs": [],
   "source": [
    "agg_vic = df_agg[df_agg.vic_flag == 1]\n",
    "agg_vic = agg_vic[['crime_id','vic_flag','male_flag','female_flag']]\n",
    "\n",
    "agg_vic.rename(columns = {'male_flag':'male_vic', \n",
    "                         'female_flag':'male_vic',\n",
    "                         'vic_flag':'total_vic'}, \n",
    "              inplace = True)\n",
    "agg_vic = agg_vic.groupby('crime_id').sum()"
   ]
  },
  {
   "cell_type": "code",
   "execution_count": 11,
   "metadata": {},
   "outputs": [],
   "source": [
    "df_grouped = df_agg[df_agg.involvement == 'ARR']\n",
    "df_grouped = df_grouped[['crime_id', 'from_date','description','zip_code',\"charge_id\",'dvflag', 'firearm_used_flag',\n",
    "                         'arr_flag','vic_flag', 'sus_flag', 'male_flag', 'female_flag', 'black_race_flag','nan_race_flag', \n",
    "                         'unknown_race_flag', 'white_race_flag','asian_race_flag', 'indian_race_flag', 'pacific_race_flag', \n",
    "                         'age_minor','age_18_24', 'age_25_29', 'age_30_34', 'age_35_39', 'age_40_44','age_45_49', \n",
    "                         'age_50_plus']]\n",
    "\n",
    "df_grouped = df_grouped.groupby(['crime_id','from_date','description','zip_code',\"charge_id\",]).sum()"
   ]
  },
  {
   "cell_type": "markdown",
   "metadata": {},
   "source": [
    "Join in victim info"
   ]
  },
  {
   "cell_type": "code",
   "execution_count": 12,
   "metadata": {},
   "outputs": [],
   "source": [
    "df_grouped.reset_index(inplace = True)\n",
    "\n",
    "df_final = pd.merge(df_grouped,agg_vic, on = 'crime_id', how = 'left')\n",
    "\n",
    "df_final.fillna(0,inplace = True)\n",
    "df_final.rename(columns = {'arr_flag':'arr',\n",
    "                          'male_flag':'male_arr',\n",
    "                          'female_flag':'female_arr',\n",
    "                          },inplace = True)\n",
    "df_final.drop(columns = ['vic_flag','sus_flag'], inplace = True)"
   ]
  },
  {
   "cell_type": "markdown",
   "metadata": {},
   "source": [
    "##### Check out final product and export"
   ]
  },
  {
   "cell_type": "code",
   "execution_count": 13,
   "metadata": {},
   "outputs": [
    {
     "data": {
      "text/html": [
       "<div>\n",
       "<style scoped>\n",
       "    .dataframe tbody tr th:only-of-type {\n",
       "        vertical-align: middle;\n",
       "    }\n",
       "\n",
       "    .dataframe tbody tr th {\n",
       "        vertical-align: top;\n",
       "    }\n",
       "\n",
       "    .dataframe thead th {\n",
       "        text-align: right;\n",
       "    }\n",
       "</style>\n",
       "<table border=\"1\" class=\"dataframe\">\n",
       "  <thead>\n",
       "    <tr style=\"text-align: right;\">\n",
       "      <th></th>\n",
       "      <th>crime_id</th>\n",
       "      <th>from_date</th>\n",
       "      <th>description</th>\n",
       "      <th>zip_code</th>\n",
       "      <th>charge_id</th>\n",
       "      <th>dvflag</th>\n",
       "      <th>firearm_used_flag</th>\n",
       "      <th>arr</th>\n",
       "      <th>male_arr</th>\n",
       "      <th>female_arr</th>\n",
       "      <th>black_race_flag</th>\n",
       "      <th>nan_race_flag</th>\n",
       "      <th>unknown_race_flag</th>\n",
       "      <th>white_race_flag</th>\n",
       "      <th>asian_race_flag</th>\n",
       "      <th>indian_race_flag</th>\n",
       "      <th>pacific_race_flag</th>\n",
       "      <th>age_minor</th>\n",
       "      <th>age_18_24</th>\n",
       "      <th>age_25_29</th>\n",
       "      <th>age_30_34</th>\n",
       "      <th>age_35_39</th>\n",
       "      <th>age_40_44</th>\n",
       "      <th>age_45_49</th>\n",
       "      <th>age_50_plus</th>\n",
       "      <th>total_vic</th>\n",
       "      <th>male_vic</th>\n",
       "      <th>male_vic</th>\n",
       "    </tr>\n",
       "  </thead>\n",
       "  <tbody>\n",
       "    <tr>\n",
       "      <th>0</th>\n",
       "      <td>100034831_134</td>\n",
       "      <td>10/18/2016</td>\n",
       "      <td>Stolen Property</td>\n",
       "      <td>64130</td>\n",
       "      <td>134</td>\n",
       "      <td>0</td>\n",
       "      <td>0</td>\n",
       "      <td>1</td>\n",
       "      <td>1</td>\n",
       "      <td>0</td>\n",
       "      <td>1</td>\n",
       "      <td>0</td>\n",
       "      <td>0</td>\n",
       "      <td>0</td>\n",
       "      <td>0</td>\n",
       "      <td>0</td>\n",
       "      <td>0</td>\n",
       "      <td>0</td>\n",
       "      <td>0</td>\n",
       "      <td>1</td>\n",
       "      <td>0</td>\n",
       "      <td>0</td>\n",
       "      <td>0</td>\n",
       "      <td>0</td>\n",
       "      <td>0</td>\n",
       "      <td>0.0</td>\n",
       "      <td>0.0</td>\n",
       "      <td>0.0</td>\n",
       "    </tr>\n",
       "    <tr>\n",
       "      <th>1</th>\n",
       "      <td>130056370_946</td>\n",
       "      <td>7/3/2016</td>\n",
       "      <td>Possession/Sale/Dist</td>\n",
       "      <td>64133</td>\n",
       "      <td>946</td>\n",
       "      <td>0</td>\n",
       "      <td>0</td>\n",
       "      <td>1</td>\n",
       "      <td>1</td>\n",
       "      <td>0</td>\n",
       "      <td>1</td>\n",
       "      <td>0</td>\n",
       "      <td>0</td>\n",
       "      <td>0</td>\n",
       "      <td>0</td>\n",
       "      <td>0</td>\n",
       "      <td>0</td>\n",
       "      <td>0</td>\n",
       "      <td>0</td>\n",
       "      <td>0</td>\n",
       "      <td>0</td>\n",
       "      <td>0</td>\n",
       "      <td>0</td>\n",
       "      <td>0</td>\n",
       "      <td>1</td>\n",
       "      <td>0.0</td>\n",
       "      <td>0.0</td>\n",
       "      <td>0.0</td>\n",
       "    </tr>\n",
       "    <tr>\n",
       "      <th>2</th>\n",
       "      <td>140071459_134</td>\n",
       "      <td>3/26/2016</td>\n",
       "      <td>Stolen Property</td>\n",
       "      <td>64130</td>\n",
       "      <td>134</td>\n",
       "      <td>0</td>\n",
       "      <td>0</td>\n",
       "      <td>1</td>\n",
       "      <td>1</td>\n",
       "      <td>0</td>\n",
       "      <td>1</td>\n",
       "      <td>0</td>\n",
       "      <td>0</td>\n",
       "      <td>0</td>\n",
       "      <td>0</td>\n",
       "      <td>0</td>\n",
       "      <td>0</td>\n",
       "      <td>0</td>\n",
       "      <td>0</td>\n",
       "      <td>1</td>\n",
       "      <td>0</td>\n",
       "      <td>0</td>\n",
       "      <td>0</td>\n",
       "      <td>0</td>\n",
       "      <td>0</td>\n",
       "      <td>1.0</td>\n",
       "      <td>1.0</td>\n",
       "      <td>0.0</td>\n",
       "    </tr>\n",
       "    <tr>\n",
       "      <th>3</th>\n",
       "      <td>150064182_946</td>\n",
       "      <td>08/26/2018</td>\n",
       "      <td>Possession/Sale/Dist</td>\n",
       "      <td>64157</td>\n",
       "      <td>946</td>\n",
       "      <td>0</td>\n",
       "      <td>0</td>\n",
       "      <td>1</td>\n",
       "      <td>1</td>\n",
       "      <td>0</td>\n",
       "      <td>0</td>\n",
       "      <td>0</td>\n",
       "      <td>0</td>\n",
       "      <td>1</td>\n",
       "      <td>0</td>\n",
       "      <td>0</td>\n",
       "      <td>0</td>\n",
       "      <td>0</td>\n",
       "      <td>0</td>\n",
       "      <td>0</td>\n",
       "      <td>0</td>\n",
       "      <td>0</td>\n",
       "      <td>0</td>\n",
       "      <td>1</td>\n",
       "      <td>0</td>\n",
       "      <td>0.0</td>\n",
       "      <td>0.0</td>\n",
       "      <td>0.0</td>\n",
       "    </tr>\n",
       "    <tr>\n",
       "      <th>4</th>\n",
       "      <td>150082191_946</td>\n",
       "      <td>10/18/2017</td>\n",
       "      <td>Possession/Sale/Dist</td>\n",
       "      <td>64105</td>\n",
       "      <td>946</td>\n",
       "      <td>0</td>\n",
       "      <td>0</td>\n",
       "      <td>1</td>\n",
       "      <td>1</td>\n",
       "      <td>0</td>\n",
       "      <td>1</td>\n",
       "      <td>0</td>\n",
       "      <td>0</td>\n",
       "      <td>0</td>\n",
       "      <td>0</td>\n",
       "      <td>0</td>\n",
       "      <td>0</td>\n",
       "      <td>0</td>\n",
       "      <td>1</td>\n",
       "      <td>0</td>\n",
       "      <td>0</td>\n",
       "      <td>0</td>\n",
       "      <td>0</td>\n",
       "      <td>0</td>\n",
       "      <td>0</td>\n",
       "      <td>0.0</td>\n",
       "      <td>0.0</td>\n",
       "      <td>0.0</td>\n",
       "    </tr>\n",
       "  </tbody>\n",
       "</table>\n",
       "</div>"
      ],
      "text/plain": [
       "        crime_id   from_date           description zip_code  charge_id  \\\n",
       "0  100034831_134  10/18/2016       Stolen Property    64130        134   \n",
       "1  130056370_946    7/3/2016  Possession/Sale/Dist    64133        946   \n",
       "2  140071459_134   3/26/2016       Stolen Property    64130        134   \n",
       "3  150064182_946  08/26/2018  Possession/Sale/Dist    64157        946   \n",
       "4  150082191_946  10/18/2017  Possession/Sale/Dist    64105        946   \n",
       "\n",
       "   dvflag  firearm_used_flag  arr  male_arr  female_arr  black_race_flag  \\\n",
       "0       0                  0    1         1           0                1   \n",
       "1       0                  0    1         1           0                1   \n",
       "2       0                  0    1         1           0                1   \n",
       "3       0                  0    1         1           0                0   \n",
       "4       0                  0    1         1           0                1   \n",
       "\n",
       "   nan_race_flag  unknown_race_flag  white_race_flag  asian_race_flag  \\\n",
       "0              0                  0                0                0   \n",
       "1              0                  0                0                0   \n",
       "2              0                  0                0                0   \n",
       "3              0                  0                1                0   \n",
       "4              0                  0                0                0   \n",
       "\n",
       "   indian_race_flag  pacific_race_flag  age_minor  age_18_24  age_25_29  \\\n",
       "0                 0                  0          0          0          1   \n",
       "1                 0                  0          0          0          0   \n",
       "2                 0                  0          0          0          1   \n",
       "3                 0                  0          0          0          0   \n",
       "4                 0                  0          0          1          0   \n",
       "\n",
       "   age_30_34  age_35_39  age_40_44  age_45_49  age_50_plus  total_vic  \\\n",
       "0          0          0          0          0            0        0.0   \n",
       "1          0          0          0          0            1        0.0   \n",
       "2          0          0          0          0            0        1.0   \n",
       "3          0          0          0          1            0        0.0   \n",
       "4          0          0          0          0            0        0.0   \n",
       "\n",
       "   male_vic  male_vic  \n",
       "0       0.0       0.0  \n",
       "1       0.0       0.0  \n",
       "2       1.0       0.0  \n",
       "3       0.0       0.0  \n",
       "4       0.0       0.0  "
      ]
     },
     "execution_count": 13,
     "metadata": {},
     "output_type": "execute_result"
    }
   ],
   "source": [
    "df_final.head()"
   ]
  },
  {
   "cell_type": "code",
   "execution_count": 14,
   "metadata": {},
   "outputs": [],
   "source": [
    "df_final.to_csv('clean_crime_data.csv', index = False)"
   ]
  }
 ],
 "metadata": {
  "kernelspec": {
   "display_name": "Python 3",
   "language": "python",
   "name": "python3"
  },
  "language_info": {
   "codemirror_mode": {
    "name": "ipython",
    "version": 3
   },
   "file_extension": ".py",
   "mimetype": "text/x-python",
   "name": "python",
   "nbconvert_exporter": "python",
   "pygments_lexer": "ipython3",
   "version": "3.7.3"
  }
 },
 "nbformat": 4,
 "nbformat_minor": 2
}
